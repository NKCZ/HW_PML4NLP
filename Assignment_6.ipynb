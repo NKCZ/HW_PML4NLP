{
 "cells": [
  {
   "cell_type": "markdown",
   "metadata": {},
   "source": [
    "<img src=\"https://communications.univie.ac.at/fileadmin/_processed_/csm_Uni_Logo_2016_2f47aacf37.jpg\" \n",
    "     alt=\"Logo Universität Wien\" \n",
    "     width=\"200\"/>\n",
    "\n",
    "# Practical Machine Learning for Natural Language Processing - 2023 SS  \n",
    "\n",
    "### Assigment 2 - Generators and Classes   \n",
    "\n",
    "In this assigment we are going to play with generators and instances/classes - structures that retain state.  "
   ]
  },
  {
   "cell_type": "markdown",
   "metadata": {},
   "source": [
    "***"
   ]
  },
  {
   "cell_type": "markdown",
   "metadata": {},
   "source": [
    "### 1. Alea Iacta Est  \n",
    "\n",
    "(a) Using [generator functions](https://github.com/rsouza/Python_Course/blob/master/Notebooks/Python_Basic/03_Functions.ipynb), create an object that emulates an eight-sided dice (1-8) that is biased, such that the probability of this generator function returning a certain value is proportional to the value itself (i.e. the face \"6\" is 3 times more likely to come out than face \"2\");  \n",
    "\n",
    " <img src=\"https://cdn11.bigcommerce.com/s-70184/images/stencil/608x608/products/532/7428/d8-dice-blue__64321.1664335674.jpg\" alt=\"8-Dice\" style=\"width:250px;height:300px;\"> \n",
    "\n",
    "(b) Using [Matplotlib](https://matplotlib.org/) plt.plot or plt.hist commands, show graphically the result of 10000 casts of the die;  \n",
    "\n",
    "(c) Modify this generator function so that it terminates automatically when all possible values (1,2,3,4,5,6,7,8) have been cast at least once. In this case, it will return the total absolute time that has elapsed since the first iteration.  (hint: a function can have both **return** and **yield** commands)  "
   ]
  },
  {
   "cell_type": "code",
   "execution_count": 1,
   "metadata": {},
   "outputs": [],
   "source": [
    "# a)\n",
    "import numpy as np\n",
    "\n",
    "def biased_8dice():\n",
    "    faces = [1,2,3,4,5,6,7,8]\n",
    "    ps = [face/sum(faces) for face in faces]\n",
    "    while True:\n",
    "        yield np.random.choice(faces, p=ps)"
   ]
  },
  {
   "cell_type": "code",
   "execution_count": 2,
   "metadata": {},
   "outputs": [
    {
     "data": {
      "text/plain": [
       "3.0"
      ]
     },
     "execution_count": 2,
     "metadata": {},
     "output_type": "execute_result"
    }
   ],
   "source": [
    "faces = [1,2,3,4,5,6,7,8]\n",
    "ps = [face/sum(faces) for face in faces]\n",
    "ps[6-1]/ps[2-1]"
   ]
  },
  {
   "cell_type": "code",
   "execution_count": 3,
   "metadata": {},
   "outputs": [
    {
     "data": {
      "text/plain": [
       "10000"
      ]
     },
     "execution_count": 3,
     "metadata": {},
     "output_type": "execute_result"
    }
   ],
   "source": [
    "history = [next(biased_8dice()) for i in range(10000)]\n",
    "len(history)"
   ]
  },
  {
   "cell_type": "code",
   "execution_count": 4,
   "metadata": {},
   "outputs": [
    {
     "data": {
      "image/png": "[encoded data removed]",
      "text/plain": [
       "<Figure size 640x480 with 1 Axes>"
      ]
     },
     "metadata": {},
     "output_type": "display_data"
    }
   ],
   "source": [
    "#b)\n",
    "import matplotlib.pyplot as plt\n",
    "plt.hist(history, bins = 8)\n",
    "plt.show()"
   ]
  },
  {
   "cell_type": "code",
   "execution_count": 5,
   "metadata": {},
   "outputs": [],
   "source": [
    "# c)\n",
    "\n",
    "import time\n",
    "\n",
    "def biased_8dice_timed():\n",
    "    start = time.time()\n",
    "    faces = [1,2,3,4,5,6,7,8]\n",
    "    ps = [face/sum(faces) for face in faces]\n",
    "    to_see = faces.copy()\n",
    "    while len(to_see)>0:\n",
    "        print(to_see)\n",
    "        seen = np.random.choice(faces, p=ps)\n",
    "        to_see.remove(seen) if seen in to_see else None\n",
    "        yield seen\n",
    "    return time.time() - start"
   ]
  },
  {
   "cell_type": "code",
   "execution_count": 7,
   "metadata": {},
   "outputs": [
    {
     "name": "stdout",
     "output_type": "stream",
     "text": [
      "[1, 2, 3, 4, 5, 6, 7, 8]\n",
      "[1, 2, 4, 5, 6, 7, 8]\n",
      "[1, 2, 4, 5, 6, 8]\n",
      "[1, 2, 4, 5, 8]\n",
      "[1, 2, 4, 5]\n",
      "[2, 4, 5]\n",
      "[2, 4]\n",
      "[4]\n",
      "[4]\n",
      "[4]\n",
      "[4]\n",
      "[4]\n",
      "[4]\n",
      "[4]\n",
      "[4]\n"
     ]
    },
    {
     "ename": "StopIteration",
     "evalue": "0.002000093460083008",
     "output_type": "error",
     "traceback": [
      "\u001b[1;31m---------------------------------------------------------------------------\u001b[0m",
      "\u001b[1;31mStopIteration\u001b[0m                             Traceback (most recent call last)",
      "Cell \u001b[1;32mIn[7], line 3\u001b[0m\n\u001b[0;32m      1\u001b[0m b8_timed \u001b[39m=\u001b[39m biased_8dice_timed()\n\u001b[1;32m----> 3\u001b[0m [\u001b[39mnext\u001b[39m(b8_timed) \u001b[39mfor\u001b[39;00m t \u001b[39min\u001b[39;00m \u001b[39mrange\u001b[39m(\u001b[39m100\u001b[39m)]\n",
      "Cell \u001b[1;32mIn[7], line 3\u001b[0m, in \u001b[0;36m<listcomp>\u001b[1;34m(.0)\u001b[0m\n\u001b[0;32m      1\u001b[0m b8_timed \u001b[39m=\u001b[39m biased_8dice_timed()\n\u001b[1;32m----> 3\u001b[0m [\u001b[39mnext\u001b[39;49m(b8_timed) \u001b[39mfor\u001b[39;00m t \u001b[39min\u001b[39;00m \u001b[39mrange\u001b[39m(\u001b[39m100\u001b[39m)]\n",
      "\u001b[1;31mStopIteration\u001b[0m: 0.002000093460083008"
     ]
    }
   ],
   "source": [
    "b8_timed = biased_8dice_timed()\n",
    "\n",
    "[next(b8_timed) for t in range(100)]"
   ]
  },
  {
   "cell_type": "markdown",
   "metadata": {},
   "source": [
    "### 2. A ticket to the first Class    \n",
    "\n",
    "+ Create a Class called \"Elevator\". Each instance of this class receives as parameters the number of floors in the building and starts the elevator on the lowest floor.  \n",
    "+ This Class should have methods and properties to allow the elevator to:\n",
    "<br></br>\n",
    "    + Receive a call - user(s) press a button to go to specific floor(s);  \n",
    "    + Receive a floor as a destination - when users enter the elevator, each one may press a button to choose destination floor;  \n",
    "    + Store and inform which floor the elevator is at each moment(consider that trips for consecutive floors takes 5 seconds, and stopping takes 10 seconds);  \n",
    "    + Store and inform which users are in the elevator;  \n",
    "    + Store and inform the sequence of floors yet to be visited;  \n",
    "    + Store the number of times the elevator stopped in each floor (passing through the floor without \"stopping\" on the floor does not count);  \n",
    "    + Refuses commands to go to inexistent floors.  \n",
    "<br></br>\n",
    "+ Simulate the behavior of the elevator serving ten users, each one calling from a random floor, and chosing a random destination floor.   \n",
    "+ Graphically illustrate the current elevator position for the requested simulation.   \n",
    "+ (BONUS) Create a smart building simulator, controlling calls made to n > 1 elevators and routing elevator properly.  "
   ]
  },
  {
   "cell_type": "code",
   "execution_count": 79,
   "metadata": {},
   "outputs": [],
   "source": [
    "class Lift:\n",
    "    def __init__(self, N_floors:int):\n",
    "        if N_floors > 0:\n",
    "            self.N_floors = N_floors # in the building\n",
    "        else:\n",
    "            raise ValueError(\"Number of floors in the building should be more than 0!\")\n",
    "        self.floor = 0\n",
    "        self.passengers = dict()\n",
    "        self.destinations = set()\n",
    "        self.travel_history = [0]\n",
    "        self.timed = 0\n",
    "        self.stops = [0]*self.N_floors\n",
    "\n",
    "    def receive_call(self, passenger_id:int, at_floor:int):\n",
    "        self.destinations.add(at_floor)\n",
    "        self.passengers[passenger_id] = {\"at\": at_floor, \"want_to\": None, \"in_elevator\": False}\n",
    "        if at_floor >= self.N_floors or at_floor < 0:\n",
    "            raise ValueError(\"Can not travel to non-existing floors!\")\n",
    "        \n",
    "    def receive_destination(self, passenger_id:int, want_floor:int):\n",
    "        self.destinations.add(want_floor)\n",
    "        self.passengers[passenger_id][\"want_to\"] = want_floor\n",
    "        self.passengers[passenger_id][\"in_elevator\"] = True \n",
    "        if want_floor >= self.N_floors or want_floor < 0:\n",
    "            raise ValueError(\"Can not travel to non-existing floors!\")\n",
    "\n",
    "    def plot(self, history = False):\n",
    "        import matplotlib.pyplot as plt\n",
    "\n",
    "        if history:\n",
    "            plt.plot(self.travel_history)\n",
    "            plt.show()\n",
    "        else:\n",
    "            plt.plot([(0,self.floor), (self.N_floors, self.floor)], 'ro-')\n",
    "            plt.show()\n",
    "        \n",
    "        print(\"_\\n{0}#{1}\\n_\".format(\"|\\n\"*(self.N_floors-self.floor), \"\\n|\"* (self.floor)))\n",
    "    \n",
    "    def travel(self):\n",
    "        from numpy import argmax, argmin\n",
    "        timed = 0\n",
    "        consequtive = 5\n",
    "        stopping = 10\n",
    "        self.destinations = sorted(self.destinations)\n",
    "\n",
    "        up = True if sum([x for x in self.destinations if self.floor < x])>len(self.destinations) else False\n",
    "        if up:\n",
    "            dist = [x - self.floor for x in self.destinations]\n",
    "            travel_to = self.destinations[argmin(dist)]\n",
    "            timed = (self.destinations[argmin(dist)] - self.floor - 1 ) * consequtive + stopping\n",
    "        else:\n",
    "            dist = [x - self.floor for x in self.destinations]\n",
    "            travel_to = self.destinations[argmax(dist)]\n",
    "            timed = (self.destinations[argmin(dist)] - self.floor - 1 ) * consequtive + stopping\n",
    "\n",
    "        self.floor = travel_to\n",
    "        self.destinations.remove(travel_to)\n",
    "\n",
    "        for p_id in list(self.passengers.keys()):\n",
    "            p = self.passengers[p_id]\n",
    "            if p[\"want_to\"] == travel_to and p[\"in_elevator\"]:\n",
    "                self.passengers.pop(p_id, None)\n",
    "\n",
    "            if p[\"at\"] == travel_to and not p[\"in_elevator\"]:\n",
    "                self.receive_destination(p_id, p[\"want_to\"])\n",
    "\n",
    "            self.timed += timed\n",
    "\n",
    "    def simulate(self):\n",
    "        from random import randint, sample\n",
    "        passengers = list(zip(sample(range(0, 10), 10), [randint(0,self.N_floors-1) for y in range(10)], [randint(0,self.N_floors-1) for y in range(10)]))\n",
    "        passenger_at_floor = [p[0] for p in passengers]\n",
    "        passenger_at_floor.sort()\n",
    "        for p in passengers:\n",
    "            self.receive_call(p[0], p[1])\n",
    "            self.receive_destination(p[0], p[2])\n",
    "\n",
    "        while self.destinations:\n",
    "            self.travel()\n",
    "            self.travel_history.append(self.floor)\n",
    "            self.stops[self.floor] += 1\n",
    "\n",
    "        self.plot(history=True)\n",
    "        return self.timed"
   ]
  },
  {
   "cell_type": "code",
   "execution_count": 87,
   "metadata": {},
   "outputs": [
    {
     "data": {
      "image/png": "[encoded data removed]",
      "text/plain": [
       "<Figure size 640x480 with 1 Axes>"
      ]
     },
     "metadata": {},
     "output_type": "display_data"
    },
    {
     "name": "stdout",
     "output_type": "stream",
     "text": [
      "_\n",
      "|\n",
      "#\n",
      "|\n",
      "|\n",
      "|\n",
      "|\n",
      "|\n",
      "|\n",
      "|\n",
      "|\n",
      "|\n",
      "|\n",
      "|\n",
      "|\n",
      "|\n",
      "|\n",
      "_\n"
     ]
    },
    {
     "data": {
      "text/plain": [
       "820"
      ]
     },
     "execution_count": 87,
     "metadata": {},
     "output_type": "execute_result"
    }
   ],
   "source": [
    "l = Lift(15)\n",
    "l.simulate()\n"
   ]
  },
  {
   "cell_type": "code",
   "execution_count": 83,
   "metadata": {},
   "outputs": [],
   "source": [
    "from random import randint, sample\n",
    "maxi = 20\n",
    "el = Lift(maxi)\n",
    "\n",
    "passengers = list(zip(sample(range(0, 10), 10), [randint(0,maxi) for y in range(10)], [randint(0,maxi) for y in range(10)]))\n"
   ]
  },
  {
   "cell_type": "code",
   "execution_count": 84,
   "metadata": {},
   "outputs": [],
   "source": [
    "for p in passengers:\n",
    "    el.receive_call(p[0], p[1])\n",
    "    el.receive_destination(p[0], p[2])"
   ]
  },
  {
   "cell_type": "code",
   "execution_count": 85,
   "metadata": {},
   "outputs": [
    {
     "data": {
      "text/plain": [
       "{1: {'at': 16, 'want_to': 12, 'in_elevator': True},\n",
       " 7: {'at': 3, 'want_to': 6, 'in_elevator': True},\n",
       " 8: {'at': 1, 'want_to': 19, 'in_elevator': True},\n",
       " 9: {'at': 18, 'want_to': 11, 'in_elevator': True},\n",
       " 5: {'at': 0, 'want_to': 12, 'in_elevator': True},\n",
       " 6: {'at': 8, 'want_to': 18, 'in_elevator': True},\n",
       " 3: {'at': 19, 'want_to': 0, 'in_elevator': True},\n",
       " 0: {'at': 1, 'want_to': 9, 'in_elevator': True},\n",
       " 2: {'at': 0, 'want_to': 18, 'in_elevator': True},\n",
       " 4: {'at': 7, 'want_to': 18, 'in_elevator': True}}"
      ]
     },
     "execution_count": 85,
     "metadata": {},
     "output_type": "execute_result"
    }
   ],
   "source": [
    "el.passengers"
   ]
  },
  {
   "cell_type": "code",
   "execution_count": 86,
   "metadata": {},
   "outputs": [
    {
     "data": {
      "image/png": "[encoded data removed]",
      "text/plain": [
       "<Figure size 640x480 with 1 Axes>"
      ]
     },
     "metadata": {},
     "output_type": "display_data"
    },
    {
     "name": "stdout",
     "output_type": "stream",
     "text": [
      "_\n",
      "|\n",
      "|\n",
      "#\n",
      "|\n",
      "|\n",
      "|\n",
      "|\n",
      "|\n",
      "|\n",
      "|\n",
      "|\n",
      "|\n",
      "|\n",
      "|\n",
      "|\n",
      "|\n",
      "_\n"
     ]
    }
   ],
   "source": [
    "l.plot()"
   ]
  },
  {
   "cell_type": "code",
   "execution_count": 82,
   "metadata": {},
   "outputs": [
    {
     "data": {
      "text/plain": [
       "[1, 0, 1, 1, 1, 1, 0, 1, 1, 1, 1, 1, 1, 1, 0]"
      ]
     },
     "execution_count": 82,
     "metadata": {},
     "output_type": "execute_result"
    }
   ],
   "source": [
    "l.stops"
   ]
  }
 ],
 "metadata": {
  "kernelspec": {
   "display_name": "Python 3 (ipykernel)",
   "language": "python",
   "name": "python3"
  },
  "language_info": {
   "codemirror_mode": {
    "name": "ipython",
    "version": 3
   },
   "file_extension": ".py",
   "mimetype": "text/x-python",
   "name": "python",
   "nbconvert_exporter": "python",
   "pygments_lexer": "ipython3",
   "version": "3.9.16"
  }
 },
 "nbformat": 4,
 "nbformat_minor": 4
}
